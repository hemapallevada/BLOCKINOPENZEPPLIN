{
  "nbformat": 4,
  "nbformat_minor": 0,
  "metadata": {
    "colab": {
      "name": "Untitled5.ipynb",
      "provenance": [],
      "collapsed_sections": [],
      "authorship_tag": "ABX9TyODXenNWDSPhwTwOJEe6aN4",
      "include_colab_link": true
    },
    "kernelspec": {
      "display_name": "Python 3",
      "name": "python3"
    }
  },
  "cells": [
    {
      "cell_type": "markdown",
      "metadata": {
        "id": "view-in-github",
        "colab_type": "text"
      },
      "source": [
        "<a href=\"https://colab.research.google.com/github/hemapallevada/BLOCKINOPENZEPPLIN/blob/master/Untitled5.ipynb\" target=\"_parent\"><img src=\"https://colab.research.google.com/assets/colab-badge.svg\" alt=\"Open In Colab\"/></a>"
      ]
    },
    {
      "cell_type": "code",
      "metadata": {
        "id": "o5vcSSGIzsG5"
      },
      "source": [
        "\r\n",
        "import numpy as np # linear algebra\r\n",
        "import pandas as pd # data processing, CSV file\r\n",
        "train_url='https://raw.githubusercontent.com/ArunkumarGoge/DataAnalyticsLab/master/Exercise%206/train.csv'\r\n",
        "name=[\"id\",\"label\",\"tweet\"]\r\n",
        "train = pd.read_csv(train_url, names=name,header=None)\r\n",
        "train=train[1:][:]\r\n",
        "test_url='https://raw.githubusercontent.com/ArunkumarGoge/DataAnalyticsLab/master/Exercise%206/test.csv'\r\n",
        "namet=[\"id\",\"tweet\"]\r\n",
        "test =  pd.read_csv(test_url, names=namet,header=None)\r\n",
        "test=test[1:][:]"
      ],
      "execution_count": null,
      "outputs": []
    },
    {
      "cell_type": "code",
      "metadata": {
        "colab": {
          "background_save": true,
          "base_uri": "https://localhost:8080/",
          "height": 204
        },
        "id": "FXvZs1V43cMF",
        "outputId": "bea33c85-307f-4628-d5dc-28258543cdbb"
      },
      "source": [
        "train.head()"
      ],
      "execution_count": null,
      "outputs": [
        {
          "output_type": "execute_result",
          "data": {
            "text/html": [
              "<div>\n",
              "<style scoped>\n",
              "    .dataframe tbody tr th:only-of-type {\n",
              "        vertical-align: middle;\n",
              "    }\n",
              "\n",
              "    .dataframe tbody tr th {\n",
              "        vertical-align: top;\n",
              "    }\n",
              "\n",
              "    .dataframe thead th {\n",
              "        text-align: right;\n",
              "    }\n",
              "</style>\n",
              "<table border=\"1\" class=\"dataframe\">\n",
              "  <thead>\n",
              "    <tr style=\"text-align: right;\">\n",
              "      <th></th>\n",
              "      <th>id</th>\n",
              "      <th>label</th>\n",
              "      <th>tweet</th>\n",
              "    </tr>\n",
              "  </thead>\n",
              "  <tbody>\n",
              "    <tr>\n",
              "      <th>1</th>\n",
              "      <td>1</td>\n",
              "      <td>0</td>\n",
              "      <td>@user when a father is dysfunctional and is s...</td>\n",
              "    </tr>\n",
              "    <tr>\n",
              "      <th>2</th>\n",
              "      <td>2</td>\n",
              "      <td>0</td>\n",
              "      <td>@user @user thanks for #lyft credit i can't us...</td>\n",
              "    </tr>\n",
              "    <tr>\n",
              "      <th>3</th>\n",
              "      <td>3</td>\n",
              "      <td>0</td>\n",
              "      <td>bihday your majesty</td>\n",
              "    </tr>\n",
              "    <tr>\n",
              "      <th>4</th>\n",
              "      <td>4</td>\n",
              "      <td>0</td>\n",
              "      <td>#model   i love u take with u all the time in ...</td>\n",
              "    </tr>\n",
              "    <tr>\n",
              "      <th>5</th>\n",
              "      <td>5</td>\n",
              "      <td>0</td>\n",
              "      <td>factsguide: society now    #motivation</td>\n",
              "    </tr>\n",
              "  </tbody>\n",
              "</table>\n",
              "</div>"
            ],
            "text/plain": [
              "  id label                                              tweet\n",
              "1  1     0   @user when a father is dysfunctional and is s...\n",
              "2  2     0  @user @user thanks for #lyft credit i can't us...\n",
              "3  3     0                                bihday your majesty\n",
              "4  4     0  #model   i love u take with u all the time in ...\n",
              "5  5     0             factsguide: society now    #motivation"
            ]
          },
          "metadata": {
            "tags": []
          },
          "execution_count": 0
        }
      ]
    },
    {
      "cell_type": "code",
      "metadata": {
        "colab": {
          "base_uri": "https://localhost:8080/",
          "height": 204
        },
        "id": "H9G7vCZt4ZCC",
        "outputId": "48b11024-0a2d-42ac-c581-559863290465"
      },
      "source": [
        "test.head()"
      ],
      "execution_count": null,
      "outputs": [
        {
          "output_type": "execute_result",
          "data": {
            "text/html": [
              "<div>\n",
              "<style scoped>\n",
              "    .dataframe tbody tr th:only-of-type {\n",
              "        vertical-align: middle;\n",
              "    }\n",
              "\n",
              "    .dataframe tbody tr th {\n",
              "        vertical-align: top;\n",
              "    }\n",
              "\n",
              "    .dataframe thead th {\n",
              "        text-align: right;\n",
              "    }\n",
              "</style>\n",
              "<table border=\"1\" class=\"dataframe\">\n",
              "  <thead>\n",
              "    <tr style=\"text-align: right;\">\n",
              "      <th></th>\n",
              "      <th>id</th>\n",
              "      <th>tweet</th>\n",
              "    </tr>\n",
              "  </thead>\n",
              "  <tbody>\n",
              "    <tr>\n",
              "      <th>1</th>\n",
              "      <td>31963</td>\n",
              "      <td>#studiolife #aislife #requires #passion #dedic...</td>\n",
              "    </tr>\n",
              "    <tr>\n",
              "      <th>2</th>\n",
              "      <td>31964</td>\n",
              "      <td>@user #white #supremacists want everyone to s...</td>\n",
              "    </tr>\n",
              "    <tr>\n",
              "      <th>3</th>\n",
              "      <td>31965</td>\n",
              "      <td>safe ways to heal your #acne!!    #altwaystohe...</td>\n",
              "    </tr>\n",
              "    <tr>\n",
              "      <th>4</th>\n",
              "      <td>31966</td>\n",
              "      <td>is the hp and the cursed child book up for res...</td>\n",
              "    </tr>\n",
              "    <tr>\n",
              "      <th>5</th>\n",
              "      <td>31967</td>\n",
              "      <td>3rd #bihday to my amazing, hilarious #nephew...</td>\n",
              "    </tr>\n",
              "  </tbody>\n",
              "</table>\n",
              "</div>"
            ],
            "text/plain": [
              "      id                                              tweet\n",
              "1  31963  #studiolife #aislife #requires #passion #dedic...\n",
              "2  31964   @user #white #supremacists want everyone to s...\n",
              "3  31965  safe ways to heal your #acne!!    #altwaystohe...\n",
              "4  31966  is the hp and the cursed child book up for res...\n",
              "5  31967    3rd #bihday to my amazing, hilarious #nephew..."
            ]
          },
          "metadata": {
            "tags": []
          },
          "execution_count": 21
        }
      ]
    },
    {
      "cell_type": "code",
      "metadata": {
        "id": "YkZCULHk4p3p"
      },
      "source": [
        "def num_of_words(df):\r\n",
        "    df['word_count'] = df['tweet'].apply(lambda x : len(str(x).split(\" \")))\r\n",
        "    print(df[['tweet','word_count']].head())"
      ],
      "execution_count": null,
      "outputs": []
    },
    {
      "cell_type": "code",
      "metadata": {
        "colab": {
          "base_uri": "https://localhost:8080/"
        },
        "id": "ehwavPQ_4uZq",
        "outputId": "78e2c326-3b64-4382-a7e2-68d9589e07ee"
      },
      "source": [
        "num_of_words(train)\r\n",
        "num_of_words(test)"
      ],
      "execution_count": null,
      "outputs": [
        {
          "output_type": "stream",
          "text": [
            "                                               tweet  word_count\n",
            "1   @user when a father is dysfunctional and is s...          21\n",
            "2  @user @user thanks for #lyft credit i can't us...          22\n",
            "3                                bihday your majesty           5\n",
            "4  #model   i love u take with u all the time in ...          17\n",
            "5             factsguide: society now    #motivation           8\n",
            "                                               tweet  word_count\n",
            "1  #studiolife #aislife #requires #passion #dedic...          12\n",
            "2   @user #white #supremacists want everyone to s...          20\n",
            "3  safe ways to heal your #acne!!    #altwaystohe...          15\n",
            "4  is the hp and the cursed child book up for res...          24\n",
            "5    3rd #bihday to my amazing, hilarious #nephew...          18\n"
          ],
          "name": "stdout"
        }
      ]
    },
    {
      "cell_type": "code",
      "metadata": {
        "id": "HWEcHmr75t9s"
      },
      "source": [
        "def stop_words(df):\r\n",
        "    df['stopwords'] = df['tweet'].apply(lambda x: len([x for x in x.split() if x in stop]))\r\n",
        "    print(df[['tweet','stopwords']].head())"
      ],
      "execution_count": null,
      "outputs": []
    },
    {
      "cell_type": "code",
      "metadata": {
        "colab": {
          "base_uri": "https://localhost:8080/"
        },
        "id": "pFdLPea-5f3t",
        "outputId": "9a9b8006-4b38-4ae3-f823-b02d4af6e4db"
      },
      "source": [
        "import nltk\r\n",
        "nltk.download('punkt')\r\n",
        "nltk.download('stopwords')\r\n",
        "from nltk.corpus import stopwords\r\n",
        "stop = stopwords.words('english')"
      ],
      "execution_count": null,
      "outputs": [
        {
          "output_type": "stream",
          "text": [
            "[nltk_data] Downloading package punkt to /root/nltk_data...\n",
            "[nltk_data]   Unzipping tokenizers/punkt.zip.\n",
            "[nltk_data] Downloading package stopwords to /root/nltk_data...\n",
            "[nltk_data]   Package stopwords is already up-to-date!\n"
          ],
          "name": "stdout"
        }
      ]
    },
    {
      "cell_type": "code",
      "metadata": {
        "id": "m4bZ3tsz6LXp"
      },
      "source": [
        "\r\n",
        "def stop_words_removal(df):\r\n",
        "    df['tweet'] = df['tweet'].apply(lambda x: \" \".join(x for x in x.split() if x not in stop))\r\n",
        "    print(df['tweet'].head())"
      ],
      "execution_count": null,
      "outputs": []
    },
    {
      "cell_type": "code",
      "metadata": {
        "colab": {
          "base_uri": "https://localhost:8080/"
        },
        "id": "KgxgBR0c6M8g",
        "outputId": "d3897435-fdd8-4a62-d120-efd7a267761b"
      },
      "source": [
        "stop_words(train)\r\n",
        "stop_words(test)"
      ],
      "execution_count": null,
      "outputs": [
        {
          "output_type": "stream",
          "text": [
            "                                               tweet  stopwords\n",
            "1  father dysfunctional selfish drags kids dysfun...          0\n",
            "2  thanks lyft credit cant use cause offer wheelc...          0\n",
            "3                                     bihday majesty          0\n",
            "4                            model take urð ðððð ððð          0\n",
            "5                      factsguide society motivation          0\n",
            "                                               tweet  stopwords\n",
            "1  studiolife aislife requires passion dedication...          0\n",
            "2  white supremacists want everyone see new birds...          0\n",
            "3  safe ways heal acne altwaystoheal healthy healing          0\n",
            "4  hp cursed child book reservations already yes ...          3\n",
            "5  3rd bihday amazing hilarious nephew eli ahmir ...          0\n"
          ],
          "name": "stdout"
        }
      ]
    },
    {
      "cell_type": "code",
      "metadata": {
        "colab": {
          "base_uri": "https://localhost:8080/"
        },
        "id": "KB-o9yYw5szZ",
        "outputId": "f9a388c7-38b6-4323-9a89-22c9485d8686"
      },
      "source": [
        "stop_words_removal(train)\r\n",
        "stop_words_removal(test)"
      ],
      "execution_count": null,
      "outputs": [
        {
          "output_type": "stream",
          "text": [
            "1    father dysfunctional selfish drags kids dysfun...\n",
            "2    thanks lyft credit cant use cause offer wheelc...\n",
            "3                                       bihday majesty\n",
            "4                              model take urð ðððð ððð\n",
            "5                        factsguide society motivation\n",
            "Name: tweet, dtype: object\n",
            "1    studiolife aislife requires passion dedication...\n",
            "2    white supremacists want everyone see new birds...\n",
            "3    safe ways heal acne altwaystoheal healthy healing\n",
            "4    hp cursed child book reservations already yes ...\n",
            "5    3rd bihday amazing hilarious nephew eli ahmir ...\n",
            "Name: tweet, dtype: object\n"
          ],
          "name": "stdout"
        }
      ]
    },
    {
      "cell_type": "code",
      "metadata": {
        "id": "KEprJp_r6fCO"
      },
      "source": [
        "def lower_case(df):\r\n",
        "    df['tweet'] = df['tweet'].apply(lambda x: \" \".join(x.lower() for x in x.split()))\r\n",
        "    print(df['tweet'].head())"
      ],
      "execution_count": null,
      "outputs": []
    },
    {
      "cell_type": "code",
      "metadata": {
        "colab": {
          "base_uri": "https://localhost:8080/"
        },
        "id": "vQEMoC6n6jHT",
        "outputId": "760691e4-ec6b-47fe-8896-f64fe924c871"
      },
      "source": [
        "lower_case(train)\r\n",
        "lower_case(test)"
      ],
      "execution_count": null,
      "outputs": [
        {
          "output_type": "stream",
          "text": [
            "1    father dysfunctional selfish drags kids dysfun...\n",
            "2    thanks lyft credit cant use cause offer wheelc...\n",
            "3                                       bihday majesty\n",
            "4                              model take urð ðððð ððð\n",
            "5                        factsguide society motivation\n",
            "Name: tweet, dtype: object\n",
            "1    studiolife aislife requires passion dedication...\n",
            "2    white supremacists want everyone see new birds...\n",
            "3    safe ways heal acne altwaystoheal healthy healing\n",
            "4    hp cursed child book reservations already yes ...\n",
            "5    3rd bihday amazing hilarious nephew eli ahmir ...\n",
            "Name: tweet, dtype: object\n"
          ],
          "name": "stdout"
        }
      ]
    },
    {
      "cell_type": "code",
      "metadata": {
        "id": "cGUkfkV86k2V"
      },
      "source": [
        "def punctuation_removal(df):\r\n",
        "    df['tweet'] = df['tweet'].str.replace('[^\\w\\s]','')\r\n",
        "    print(df['tweet'].head())"
      ],
      "execution_count": null,
      "outputs": []
    },
    {
      "cell_type": "code",
      "metadata": {
        "colab": {
          "base_uri": "https://localhost:8080/"
        },
        "id": "pGiRnsp-6qzV",
        "outputId": "33bc5d03-7e85-480d-acdf-5921192f2d94"
      },
      "source": [
        "punctuation_removal(train)\r\n",
        "punctuation_removal(test)"
      ],
      "execution_count": null,
      "outputs": [
        {
          "output_type": "stream",
          "text": [
            "1    father dysfunctional selfish drags kids dysfun...\n",
            "2    thanks lyft credit cant use cause offer wheelc...\n",
            "3                                       bihday majesty\n",
            "4                              model take urð ðððð ððð\n",
            "5                        factsguide society motivation\n",
            "Name: tweet, dtype: object\n",
            "1    studiolife aislife requires passion dedication...\n",
            "2    white supremacists want everyone see new birds...\n",
            "3    safe ways heal acne altwaystoheal healthy healing\n",
            "4    hp cursed child book reservations already yes ...\n",
            "5    3rd bihday amazing hilarious nephew eli ahmir ...\n",
            "Name: tweet, dtype: object\n"
          ],
          "name": "stdout"
        }
      ]
    },
    {
      "cell_type": "code",
      "metadata": {
        "colab": {
          "base_uri": "https://localhost:8080/"
        },
        "id": "Idf0QYZB61Gd",
        "outputId": "34883cb9-b05e-4cc3-cea7-7819cad9d2cf"
      },
      "source": [
        "freq = pd.Series(' '.join(train['tweet']).split()).value_counts()[:10]\r\n",
        "freq"
      ],
      "execution_count": null,
      "outputs": [
        {
          "output_type": "execute_result",
          "data": {
            "text/plain": [
              "life        1086\n",
              "like        1042\n",
              "today        991\n",
              "new          983\n",
              "positive     928\n",
              "thankful     919\n",
              "get          917\n",
              "people       852\n",
              "good         840\n",
              "bihday       825\n",
              "dtype: int64"
            ]
          },
          "metadata": {
            "tags": []
          },
          "execution_count": 60
        }
      ]
    },
    {
      "cell_type": "code",
      "metadata": {
        "id": "dFGUw0kW67mZ"
      },
      "source": [
        "freq = list(freq.index)\r\n",
        "def rare_words_removal(df):\r\n",
        "    df['tweet'] = df['tweet'].apply(lambda x: \" \".join(x for x in x.split() if x not in freq))\r\n",
        "    print(df['tweet'].head())"
      ],
      "execution_count": null,
      "outputs": []
    },
    {
      "cell_type": "code",
      "metadata": {
        "colab": {
          "base_uri": "https://localhost:8080/"
        },
        "id": "-HPtYiZR6_jP",
        "outputId": "52d5126b-c359-4620-8a7c-5f0c9fd71aee"
      },
      "source": [
        "rare_words_removal(train)\r\n",
        "rare_words_removal(test)"
      ],
      "execution_count": null,
      "outputs": [
        {
          "output_type": "stream",
          "text": [
            "1    father dysfunctional selfish drags kids dysfun...\n",
            "2    thanks lyft credit cant use cause offer wheelc...\n",
            "3                                              majesty\n",
            "4                              model take urð ðððð ððð\n",
            "5                        factsguide society motivation\n",
            "Name: tweet, dtype: object\n",
            "1    studiolife aislife requires passion dedication...\n",
            "2    white supremacists want everyone see birdsâ mo...\n",
            "3    safe ways heal acne altwaystoheal healthy healing\n",
            "4    hp cursed child book reservations already yes ...\n",
            "5    3rd amazing hilarious nephew eli ahmir uncle d...\n",
            "Name: tweet, dtype: object\n"
          ],
          "name": "stdout"
        }
      ]
    },
    {
      "cell_type": "code",
      "metadata": {
        "colab": {
          "base_uri": "https://localhost:8080/"
        },
        "id": "NFPEjNUA7DkS",
        "outputId": "96c775f2-8b74-49b2-ad77-9b1430e84446"
      },
      "source": [
        "pip install textblob"
      ],
      "execution_count": null,
      "outputs": [
        {
          "output_type": "stream",
          "text": [
            "Requirement already satisfied: textblob in /usr/local/lib/python3.6/dist-packages (0.15.3)\n",
            "Requirement already satisfied: nltk>=3.1 in /usr/local/lib/python3.6/dist-packages (from textblob) (3.2.5)\n",
            "Requirement already satisfied: six in /usr/local/lib/python3.6/dist-packages (from nltk>=3.1->textblob) (1.15.0)\n"
          ],
          "name": "stdout"
        }
      ]
    },
    {
      "cell_type": "code",
      "metadata": {
        "id": "yFx-LdrW7T0v"
      },
      "source": [
        "from textblob import TextBlob"
      ],
      "execution_count": null,
      "outputs": []
    },
    {
      "cell_type": "code",
      "metadata": {
        "id": "CVMnIiPh7YKf"
      },
      "source": [
        "def spell_correction(df):\r\n",
        "    return df['tweet'][:5].apply(lambda x: str(TextBlob(x).correct()))"
      ],
      "execution_count": null,
      "outputs": []
    },
    {
      "cell_type": "code",
      "metadata": {
        "colab": {
          "base_uri": "https://localhost:8080/"
        },
        "id": "NRD2MNIU7aIf",
        "outputId": "0f0d4636-93be-4282-d338-76ae7c494422"
      },
      "source": [
        "spell_correction(train)"
      ],
      "execution_count": null,
      "outputs": [
        {
          "output_type": "execute_result",
          "data": {
            "text/plain": [
              "1    father dysfunctional selfish drags kiss dysfun...\n",
              "2    thanks left credit can use cause offer wheelch...\n",
              "3                                              majesty\n",
              "4                               model take or ðððð ððð\n",
              "5                        factsguide society motivation\n",
              "Name: tweet, dtype: object"
            ]
          },
          "metadata": {
            "tags": []
          },
          "execution_count": 66
        }
      ]
    },
    {
      "cell_type": "code",
      "metadata": {
        "colab": {
          "base_uri": "https://localhost:8080/"
        },
        "id": "vMuaD9Zo7ejv",
        "outputId": "6f5a1cd7-8225-42b8-e443-5c2d63d92559"
      },
      "source": [
        "\r\n",
        "spell_correction(test)"
      ],
      "execution_count": null,
      "outputs": [
        {
          "output_type": "execute_result",
          "data": {
            "text/plain": [
              "1    studiolife dislike requires passion education ...\n",
              "2    white supremacists want everyone see birds mov...\n",
              "3    safe ways heal acne altwaystoheal healthy healing\n",
              "4    he cursed child book reservations already yes ...\n",
              "5    rd amazing hilarious nephew epi their uncle da...\n",
              "Name: tweet, dtype: object"
            ]
          },
          "metadata": {
            "tags": []
          },
          "execution_count": 67
        }
      ]
    },
    {
      "cell_type": "code",
      "metadata": {
        "id": "eWQ1GqZV7vRi"
      },
      "source": [
        "def tokens(df):\r\n",
        "    return TextBlob(df['tweet'][1]).words"
      ],
      "execution_count": null,
      "outputs": []
    },
    {
      "cell_type": "code",
      "metadata": {
        "colab": {
          "base_uri": "https://localhost:8080/"
        },
        "id": "Xq0GhMvy7xw8",
        "outputId": "96b377a2-8291-4b66-a578-14fab868a7af"
      },
      "source": [
        "tokens(train)\r\n"
      ],
      "execution_count": null,
      "outputs": [
        {
          "output_type": "execute_result",
          "data": {
            "text/plain": [
              "WordList(['father', 'dysfunctional', 'selfish', 'drags', 'kids', 'dysfunction', 'run'])"
            ]
          },
          "metadata": {
            "tags": []
          },
          "execution_count": 72
        }
      ]
    },
    {
      "cell_type": "code",
      "metadata": {
        "colab": {
          "base_uri": "https://localhost:8080/"
        },
        "id": "ZVKBkmD_8Nix",
        "outputId": "537f506f-eb85-41cc-cc69-ac02b3258d10"
      },
      "source": [
        "\r\n",
        "tokens(test)"
      ],
      "execution_count": null,
      "outputs": [
        {
          "output_type": "execute_result",
          "data": {
            "text/plain": [
              "WordList(['studiolife', 'aislife', 'requires', 'passion', 'dedication', 'willpower', 'find', 'newmaterialsâ'])"
            ]
          },
          "metadata": {
            "tags": []
          },
          "execution_count": 73
        }
      ]
    },
    {
      "cell_type": "code",
      "metadata": {
        "id": "Xf3IyhyB8SkW"
      },
      "source": [
        "from nltk.stem import PorterStemmer\r\n",
        "st = PorterStemmer()"
      ],
      "execution_count": null,
      "outputs": []
    },
    {
      "cell_type": "code",
      "metadata": {
        "id": "hgobVd-I8Vbu"
      },
      "source": [
        "def stemming(df):\r\n",
        "    return df['tweet'][:5].apply(lambda x: \" \".join([st.stem(word) for word in x.split()]))"
      ],
      "execution_count": null,
      "outputs": []
    },
    {
      "cell_type": "code",
      "metadata": {
        "colab": {
          "base_uri": "https://localhost:8080/"
        },
        "id": "SUTgLc0j8XSE",
        "outputId": "1b1ed464-e933-435f-9c4b-bee99d066f61"
      },
      "source": [
        "\r\n",
        "stemming(train)"
      ],
      "execution_count": null,
      "outputs": [
        {
          "output_type": "execute_result",
          "data": {
            "text/plain": [
              "1        father dysfunct selfish drag kid dysfunct run\n",
              "2    thank lyft credit cant use caus offer wheelcha...\n",
              "3                                              majesti\n",
              "4                              model take urð ðððð ððð\n",
              "5                              factsguid societi motiv\n",
              "Name: tweet, dtype: object"
            ]
          },
          "metadata": {
            "tags": []
          },
          "execution_count": 76
        }
      ]
    },
    {
      "cell_type": "code",
      "metadata": {
        "colab": {
          "base_uri": "https://localhost:8080/"
        },
        "id": "7wuBGhiA8Zxe",
        "outputId": "4f435fd2-3f6a-44cd-f050-7498b02eed5b"
      },
      "source": [
        "stemming(test)\r\n"
      ],
      "execution_count": null,
      "outputs": [
        {
          "output_type": "execute_result",
          "data": {
            "text/plain": [
              "1    studiolif aislif requir passion dedic willpow ...\n",
              "2    white supremacist want everyon see birdsâ movi...\n",
              "3            safe way heal acn altwaystoh healthi heal\n",
              "4    hp curs child book reserv alreadi ye ððð harry...\n",
              "5    3rd amaz hilari nephew eli ahmir uncl dave lov...\n",
              "Name: tweet, dtype: object"
            ]
          },
          "metadata": {
            "tags": []
          },
          "execution_count": 77
        }
      ]
    },
    {
      "cell_type": "code",
      "metadata": {
        "id": "uNYIV-_r8b9-"
      },
      "source": [
        "tf1 = (train['tweet'][1:2]).apply(lambda x: pd.value_counts(x.split(\" \"))).sum(axis = 0).reset_index()\r\n",
        "tf1.columns = ['words','tf']"
      ],
      "execution_count": null,
      "outputs": []
    },
    {
      "cell_type": "code",
      "metadata": {
        "id": "P5mZzgxc8eIk"
      },
      "source": [
        "for i,word in enumerate(tf1['words']):\r\n",
        "    tf1.loc[i, 'idf'] = np.log(train.shape[0]/(len(train[train['tweet'].str.contains(word)])))"
      ],
      "execution_count": null,
      "outputs": []
    },
    {
      "cell_type": "code",
      "metadata": {
        "colab": {
          "base_uri": "https://localhost:8080/",
          "height": 421
        },
        "id": "AiIUomeZ8gGR",
        "outputId": "261a25e0-4c23-4076-cf87-de402dbc5d58"
      },
      "source": [
        "\r\n",
        "tf1['tfidf'] = tf1['tf'] * tf1['idf']\r\n",
        "tf1"
      ],
      "execution_count": null,
      "outputs": [
        {
          "output_type": "execute_result",
          "data": {
            "text/html": [
              "<div>\n",
              "<style scoped>\n",
              "    .dataframe tbody tr th:only-of-type {\n",
              "        vertical-align: middle;\n",
              "    }\n",
              "\n",
              "    .dataframe tbody tr th {\n",
              "        vertical-align: top;\n",
              "    }\n",
              "\n",
              "    .dataframe thead th {\n",
              "        text-align: right;\n",
              "    }\n",
              "</style>\n",
              "<table border=\"1\" class=\"dataframe\">\n",
              "  <thead>\n",
              "    <tr style=\"text-align: right;\">\n",
              "      <th></th>\n",
              "      <th>words</th>\n",
              "      <th>tf</th>\n",
              "      <th>idf</th>\n",
              "      <th>tfidf</th>\n",
              "    </tr>\n",
              "  </thead>\n",
              "  <tbody>\n",
              "    <tr>\n",
              "      <th>0</th>\n",
              "      <td>cause</td>\n",
              "      <td>1</td>\n",
              "      <td>5.690172</td>\n",
              "      <td>5.690172</td>\n",
              "    </tr>\n",
              "    <tr>\n",
              "      <th>1</th>\n",
              "      <td>lyft</td>\n",
              "      <td>1</td>\n",
              "      <td>8.762865</td>\n",
              "      <td>8.762865</td>\n",
              "    </tr>\n",
              "    <tr>\n",
              "      <th>2</th>\n",
              "      <td>credit</td>\n",
              "      <td>1</td>\n",
              "      <td>7.327781</td>\n",
              "      <td>7.327781</td>\n",
              "    </tr>\n",
              "    <tr>\n",
              "      <th>3</th>\n",
              "      <td>pdx</td>\n",
              "      <td>1</td>\n",
              "      <td>8.762865</td>\n",
              "      <td>8.762865</td>\n",
              "    </tr>\n",
              "    <tr>\n",
              "      <th>4</th>\n",
              "      <td>offer</td>\n",
              "      <td>1</td>\n",
              "      <td>6.522155</td>\n",
              "      <td>6.522155</td>\n",
              "    </tr>\n",
              "    <tr>\n",
              "      <th>5</th>\n",
              "      <td>disapointed</td>\n",
              "      <td>1</td>\n",
              "      <td>10.372303</td>\n",
              "      <td>10.372303</td>\n",
              "    </tr>\n",
              "    <tr>\n",
              "      <th>6</th>\n",
              "      <td>thanks</td>\n",
              "      <td>1</td>\n",
              "      <td>4.597751</td>\n",
              "      <td>4.597751</td>\n",
              "    </tr>\n",
              "    <tr>\n",
              "      <th>7</th>\n",
              "      <td>wheelchair</td>\n",
              "      <td>1</td>\n",
              "      <td>9.273691</td>\n",
              "      <td>9.273691</td>\n",
              "    </tr>\n",
              "    <tr>\n",
              "      <th>8</th>\n",
              "      <td>getthanked</td>\n",
              "      <td>1</td>\n",
              "      <td>9.679156</td>\n",
              "      <td>9.679156</td>\n",
              "    </tr>\n",
              "    <tr>\n",
              "      <th>9</th>\n",
              "      <td>cant</td>\n",
              "      <td>1</td>\n",
              "      <td>3.538194</td>\n",
              "      <td>3.538194</td>\n",
              "    </tr>\n",
              "    <tr>\n",
              "      <th>10</th>\n",
              "      <td>use</td>\n",
              "      <td>1</td>\n",
              "      <td>3.542509</td>\n",
              "      <td>3.542509</td>\n",
              "    </tr>\n",
              "    <tr>\n",
              "      <th>11</th>\n",
              "      <td>vans</td>\n",
              "      <td>1</td>\n",
              "      <td>8.426393</td>\n",
              "      <td>8.426393</td>\n",
              "    </tr>\n",
              "  </tbody>\n",
              "</table>\n",
              "</div>"
            ],
            "text/plain": [
              "          words  tf        idf      tfidf\n",
              "0         cause   1   5.690172   5.690172\n",
              "1          lyft   1   8.762865   8.762865\n",
              "2        credit   1   7.327781   7.327781\n",
              "3           pdx   1   8.762865   8.762865\n",
              "4         offer   1   6.522155   6.522155\n",
              "5   disapointed   1  10.372303  10.372303\n",
              "6        thanks   1   4.597751   4.597751\n",
              "7    wheelchair   1   9.273691   9.273691\n",
              "8    getthanked   1   9.679156   9.679156\n",
              "9          cant   1   3.538194   3.538194\n",
              "10          use   1   3.542509   3.542509\n",
              "11         vans   1   8.426393   8.426393"
            ]
          },
          "metadata": {
            "tags": []
          },
          "execution_count": 80
        }
      ]
    },
    {
      "cell_type": "code",
      "metadata": {
        "id": "andJpy_-8jYB"
      },
      "source": [
        "def polarity_subjectivity(df):\r\n",
        "    return df['tweet'][:5].apply(lambda x: TextBlob(x).sentiment)"
      ],
      "execution_count": null,
      "outputs": []
    },
    {
      "cell_type": "code",
      "metadata": {
        "colab": {
          "base_uri": "https://localhost:8080/"
        },
        "id": "SOzmKr2G8kTu",
        "outputId": "6ab5786e-92f2-4960-e882-0bf11605bc16"
      },
      "source": [
        "\r\n",
        "polarity_subjectivity(train)"
      ],
      "execution_count": null,
      "outputs": [
        {
          "output_type": "execute_result",
          "data": {
            "text/plain": [
              "1    (-0.5, 1.0)\n",
              "2     (0.2, 0.2)\n",
              "3     (0.0, 0.0)\n",
              "4     (0.0, 0.0)\n",
              "5     (0.0, 0.0)\n",
              "Name: tweet, dtype: object"
            ]
          },
          "metadata": {
            "tags": []
          },
          "execution_count": 82
        }
      ]
    },
    {
      "cell_type": "code",
      "metadata": {
        "colab": {
          "base_uri": "https://localhost:8080/"
        },
        "id": "F654owpP8nrW",
        "outputId": "4879071b-a4ca-4994-ddf4-94e60f94523d"
      },
      "source": [
        "polarity_subjectivity(test)"
      ],
      "execution_count": null,
      "outputs": [
        {
          "output_type": "execute_result",
          "data": {
            "text/plain": [
              "1                                  (0.0, 0.0)\n",
              "2                                  (0.0, 0.0)\n",
              "3                                  (0.5, 0.5)\n",
              "4                                  (0.5, 1.0)\n",
              "5    (0.3666666666666667, 0.6333333333333333)\n",
              "Name: tweet, dtype: object"
            ]
          },
          "metadata": {
            "tags": []
          },
          "execution_count": 83
        }
      ]
    },
    {
      "cell_type": "code",
      "metadata": {
        "id": "cvSFTpr_8p1G"
      },
      "source": [
        "def sentiment_analysis(df):\r\n",
        "    df['sentiment'] = df['tweet'].apply(lambda x: TextBlob(x).sentiment[0] )\r\n",
        "    return df[['tweet','sentiment']].head()"
      ],
      "execution_count": null,
      "outputs": []
    },
    {
      "cell_type": "code",
      "metadata": {
        "colab": {
          "base_uri": "https://localhost:8080/",
          "height": 204
        },
        "id": "Urw0l7N28raF",
        "outputId": "bc56a59e-9104-4b77-fe3e-d28e605b9dc7"
      },
      "source": [
        "sentiment_analysis(train)"
      ],
      "execution_count": null,
      "outputs": [
        {
          "output_type": "execute_result",
          "data": {
            "text/html": [
              "<div>\n",
              "<style scoped>\n",
              "    .dataframe tbody tr th:only-of-type {\n",
              "        vertical-align: middle;\n",
              "    }\n",
              "\n",
              "    .dataframe tbody tr th {\n",
              "        vertical-align: top;\n",
              "    }\n",
              "\n",
              "    .dataframe thead th {\n",
              "        text-align: right;\n",
              "    }\n",
              "</style>\n",
              "<table border=\"1\" class=\"dataframe\">\n",
              "  <thead>\n",
              "    <tr style=\"text-align: right;\">\n",
              "      <th></th>\n",
              "      <th>tweet</th>\n",
              "      <th>sentiment</th>\n",
              "    </tr>\n",
              "  </thead>\n",
              "  <tbody>\n",
              "    <tr>\n",
              "      <th>1</th>\n",
              "      <td>father dysfunctional selfish drags kids dysfun...</td>\n",
              "      <td>-0.5</td>\n",
              "    </tr>\n",
              "    <tr>\n",
              "      <th>2</th>\n",
              "      <td>thanks lyft credit cant use cause offer wheelc...</td>\n",
              "      <td>0.2</td>\n",
              "    </tr>\n",
              "    <tr>\n",
              "      <th>3</th>\n",
              "      <td>majesty</td>\n",
              "      <td>0.0</td>\n",
              "    </tr>\n",
              "    <tr>\n",
              "      <th>4</th>\n",
              "      <td>model take urð ðððð ððð</td>\n",
              "      <td>0.0</td>\n",
              "    </tr>\n",
              "    <tr>\n",
              "      <th>5</th>\n",
              "      <td>factsguide society motivation</td>\n",
              "      <td>0.0</td>\n",
              "    </tr>\n",
              "  </tbody>\n",
              "</table>\n",
              "</div>"
            ],
            "text/plain": [
              "                                               tweet  sentiment\n",
              "1  father dysfunctional selfish drags kids dysfun...       -0.5\n",
              "2  thanks lyft credit cant use cause offer wheelc...        0.2\n",
              "3                                            majesty        0.0\n",
              "4                            model take urð ðððð ððð        0.0\n",
              "5                      factsguide society motivation        0.0"
            ]
          },
          "metadata": {
            "tags": []
          },
          "execution_count": 85
        }
      ]
    },
    {
      "cell_type": "code",
      "metadata": {
        "colab": {
          "base_uri": "https://localhost:8080/",
          "height": 204
        },
        "id": "-ETn9uMr8tTZ",
        "outputId": "478bd63a-763f-44fd-b865-c4d1c78cee81"
      },
      "source": [
        "sentiment_analysis(test)"
      ],
      "execution_count": null,
      "outputs": [
        {
          "output_type": "execute_result",
          "data": {
            "text/html": [
              "<div>\n",
              "<style scoped>\n",
              "    .dataframe tbody tr th:only-of-type {\n",
              "        vertical-align: middle;\n",
              "    }\n",
              "\n",
              "    .dataframe tbody tr th {\n",
              "        vertical-align: top;\n",
              "    }\n",
              "\n",
              "    .dataframe thead th {\n",
              "        text-align: right;\n",
              "    }\n",
              "</style>\n",
              "<table border=\"1\" class=\"dataframe\">\n",
              "  <thead>\n",
              "    <tr style=\"text-align: right;\">\n",
              "      <th></th>\n",
              "      <th>tweet</th>\n",
              "      <th>sentiment</th>\n",
              "    </tr>\n",
              "  </thead>\n",
              "  <tbody>\n",
              "    <tr>\n",
              "      <th>1</th>\n",
              "      <td>studiolife aislife requires passion dedication...</td>\n",
              "      <td>0.000000</td>\n",
              "    </tr>\n",
              "    <tr>\n",
              "      <th>2</th>\n",
              "      <td>white supremacists want everyone see birdsâ mo...</td>\n",
              "      <td>0.000000</td>\n",
              "    </tr>\n",
              "    <tr>\n",
              "      <th>3</th>\n",
              "      <td>safe ways heal acne altwaystoheal healthy healing</td>\n",
              "      <td>0.500000</td>\n",
              "    </tr>\n",
              "    <tr>\n",
              "      <th>4</th>\n",
              "      <td>hp cursed child book reservations already yes ...</td>\n",
              "      <td>0.500000</td>\n",
              "    </tr>\n",
              "    <tr>\n",
              "      <th>5</th>\n",
              "      <td>3rd amazing hilarious nephew eli ahmir uncle d...</td>\n",
              "      <td>0.366667</td>\n",
              "    </tr>\n",
              "  </tbody>\n",
              "</table>\n",
              "</div>"
            ],
            "text/plain": [
              "                                               tweet  sentiment\n",
              "1  studiolife aislife requires passion dedication...   0.000000\n",
              "2  white supremacists want everyone see birdsâ mo...   0.000000\n",
              "3  safe ways heal acne altwaystoheal healthy healing   0.500000\n",
              "4  hp cursed child book reservations already yes ...   0.500000\n",
              "5  3rd amazing hilarious nephew eli ahmir uncle d...   0.366667"
            ]
          },
          "metadata": {
            "tags": []
          },
          "execution_count": 86
        }
      ]
    }
  ]
}